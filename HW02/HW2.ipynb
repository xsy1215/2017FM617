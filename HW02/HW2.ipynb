{
 "cells": [
  {
   "cell_type": "code",
   "execution_count": 26,
   "metadata": {
    "scrolled": true
   },
   "outputs": [
    {
     "name": "stdout",
     "output_type": "stream",
     "text": [
      "hello\n",
      "this is alice's greeting.\n",
      "this is bob's greeting.\n",
      "5 plus 10 is equal to 15\n",
      "foo\n",
      "Current working directory isC:\\Users\\Xu\n",
      "==========\n",
      "i like to eatapple\n",
      "i like to eatoranges\n",
      "i like to eatcats\n",
      "count to ten:\n",
      "1\n",
      "2\n",
      "3\n",
      "4\n",
      "5\n",
      "6\n",
      "7\n",
      "8\n",
      "9\n",
      "10\n"
     ]
    }
   ],
   "source": [
    "import os\n",
    "def main(): #把下面的東西放到main裡面\n",
    "    print(\"hello\") \n",
    "    print(\"this is alice's greeting.\")\n",
    "    print('this is bob\\'s greeting.') #印出東西 \"\" ''功能依樣 \n",
    "    foo(5,10) #設定foo變數\n",
    "    print ('Current working directory is' + os.getcwd()) #印出字串+取工作目錄\n",
    "    print('=' *10 ) #印 = 10次\n",
    "    \n",
    "    counter =0\n",
    "    counter +=1 #設定變數的值\n",
    "    \n",
    "    food = [\"apple\",\"oranges\",\"cats\"] #把..放入list 可以有不同形式\n",
    "    \n",
    "    for i in food: #food裡面的迴圈\n",
    "        print(\"i like to eat\"+i) \n",
    "        \n",
    "    print('count to ten:')\n",
    "    \n",
    "    for i in range(10):\n",
    "        \n",
    "        print (i+1) #因為預設0開始所以+1\n",
    "\n",
    "   \n",
    "\n",
    "\n",
    "       \n",
    "def foo(c, d): #定義函數\n",
    "    res=(c+d)\n",
    "    print ('{} plus {} is equal to {}'.format(c,d,res))#c plus d is equal to res\n",
    "    if res < 50:\n",
    "        print('foo')    \n",
    "    elif res>=50  and (c==42):\n",
    "        print ('bar') #res>=50 和 parmal=42同時成立印出bar\n",
    "    else:\n",
    "        print ('moo') #都不是 印出moo\n",
    "    return res \n",
    "if __name__=='__main__': #此CODE是被執行還是拿來執行\n",
    "    main()\n",
    "           \n",
    "    \n"
   ]
  },
  {
   "cell_type": "code",
   "execution_count": null,
   "metadata": {
    "collapsed": true
   },
   "outputs": [],
   "source": []
  }
 ],
 "metadata": {
  "kernelspec": {
   "display_name": "Python 3",
   "language": "python",
   "name": "python3"
  },
  "language_info": {
   "codemirror_mode": {
    "name": "ipython",
    "version": 3
   },
   "file_extension": ".py",
   "mimetype": "text/x-python",
   "name": "python",
   "nbconvert_exporter": "python",
   "pygments_lexer": "ipython3",
   "version": "3.6.3"
  }
 },
 "nbformat": 4,
 "nbformat_minor": 2
}
