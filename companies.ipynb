{
 "cells": [
  {
   "cell_type": "code",
   "execution_count": null,
   "metadata": {},
   "outputs": [
    {
     "name": "stderr",
     "output_type": "stream",
     "text": [
      " * Running on http://127.0.0.1:5000/ (Press CTRL+C to quit)\n",
      "127.0.0.1 - - [30/Nov/2017 21:35:03] \"GET / HTTP/1.1\" 200 -\n",
      "127.0.0.1 - - [30/Nov/2017 21:35:03] \"GET /favicon.ico HTTP/1.1\" 404 -\n"
     ]
    }
   ],
   "source": [
    "import pandas as pd\n",
    "from flask import Flask\n",
    "\n",
    "app = Flask(__name__)\n",
    "\n",
    "@app.route('/')\n",
    "def index():\n",
    "    message = \"\"\"請在網址列上選擇要看的公司名單：<br/>\n",
    "    /nasdaq ==> nasdaq 的公司名單<br/>\n",
    "    /nyse ==> nyse 的公司名單<br/>\n",
    "    /amex ==> amex 的公司名單<br/>\n",
    "    \"\"\"\n",
    "    return message\n",
    "\n",
    "@app.route('/nyse')\n",
    "def nyse():\n",
    "    df = pd.read_csv(\"nyse_companylist.csv\", encoding=\"utf-8\", header=0)\n",
    "    df.sort_index(ascending=True)\n",
    "    return df.to_html()\n",
    "\n",
    "@app.route('/nyse/<symbol>')\n",
    "def nyse_company(symbol):\n",
    "    df = pd.read_csv(\"nyse_companylist.csv\",encoding=\"utf-8\", header=0)\n",
    "    df.sort_index(ascending=True)\n",
    "    match = df.loc[df['Symbol'] == symbol.upper()]\n",
    "    return match.to_html()\n",
    "\n",
    "@app.route('/nasdaq')\n",
    "def nasdaq():\n",
    "    df = pd.read_csv(\"nasdaq_companylist.csv\", encoding=\"utf-8\", header=0)\n",
    "    df.sort_index(ascending=True)\n",
    "    return df.to_html()\n",
    "\n",
    "@app.route('/nasdaq/<symbol>')\n",
    "def nasdaq_company(symbol):\n",
    "    df = pd.read_csv(\"nasdaq_companylist.csv\",encoding=\"utf-8\", header=0)\n",
    "    df.sort_index(ascending=True)\n",
    "    match = df.loc[df['Symbol'] == symbol.upper()]\n",
    "    return match.to_html()\n",
    "\n",
    "@app.route('/amex')\n",
    "def amex():\n",
    "    df = pd.read_csv(\"amex_companylist.csv\", encoding=\"utf-8\", header=0)\n",
    "    df.sort_index(ascending=True)\n",
    "    return df.to_html()\n",
    "\n",
    "@app.route('/amex/<symbol>')\n",
    "def amex_company(symbol):\n",
    "    df = pd.read_csv(\"amex_companylist.csv\",encoding=\"utf-8\", header=0)\n",
    "    df.sort_index(ascending=True)\n",
    "    match = df.loc[df['Symbol'] == symbol.upper()]\n",
    "    return match.to_html()\n",
    "\n",
    "\n",
    "if __name__==\"__main__\":\n",
    "    app.run()\n"
   ]
  },
  {
   "cell_type": "code",
   "execution_count": null,
   "metadata": {
    "collapsed": true
   },
   "outputs": [],
   "source": []
  }
 ],
 "metadata": {
  "kernelspec": {
   "display_name": "Python 3",
   "language": "python",
   "name": "python3"
  },
  "language_info": {
   "codemirror_mode": {
    "name": "ipython",
    "version": 3
   },
   "file_extension": ".py",
   "mimetype": "text/x-python",
   "name": "python",
   "nbconvert_exporter": "python",
   "pygments_lexer": "ipython3",
   "version": "3.6.3"
  }
 },
 "nbformat": 4,
 "nbformat_minor": 2
}
